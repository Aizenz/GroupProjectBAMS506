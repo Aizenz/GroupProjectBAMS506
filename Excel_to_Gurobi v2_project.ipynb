{
 "cells": [
  {
   "cell_type": "code",
   "execution_count": 143,
   "id": "53b962c2fe18a08b",
   "metadata": {
    "ExecuteTime": {
     "end_time": "2023-09-27T17:33:35.537315Z",
     "start_time": "2023-09-27T17:33:35.529256Z"
    }
   },
   "outputs": [],
   "source": [
    "import pandas as pd\n",
    "from gurobipy import GRB,Model,quicksum\n",
    "import openpyxl\n",
    "from IPython.display import Markdown, display"
   ]
  },
  {
   "cell_type": "code",
   "execution_count": 144,
   "id": "8844af3cea1481c1",
   "metadata": {
    "ExecuteTime": {
     "end_time": "2023-09-27T17:33:35.562488Z",
     "start_time": "2023-09-27T17:33:35.533218Z"
    }
   },
   "outputs": [],
   "source": [
    "# reading the inputs from Excel workbook\n",
    "filename = \"Model_Inputs_project.xlsx\"\n",
    "wb = openpyxl.load_workbook(filename,data_only=True)\n",
    "main = wb['Main']"
   ]
  },
  {
   "cell_type": "code",
   "execution_count": 145,
   "id": "53ca258bc5b4efa0",
   "metadata": {
    "ExecuteTime": {
     "end_time": "2023-09-27T17:33:35.569274Z",
     "start_time": "2023-09-27T17:33:35.567413Z"
    }
   },
   "outputs": [],
   "source": [
    "# read objective\n",
    "obj = main.cell(column=2, row=1).value\n",
    "if obj =='max':\n",
    "    obj = -1\n",
    "elif obj =='min':\n",
    "    obj = 1\n",
    "else:\n",
    "    raise NameError('Objective cannot be recognized')\n",
    "# read obj coefficient\n",
    "obj_coeff=[]\n",
    "for c in range(2,10000):\n",
    "    v = main.cell(column=c, row=3).value\n",
    "    if v is None:\n",
    "        break\n",
    "    else:\n",
    "        obj_coeff.append(v)\n",
    "n_variables = len(obj_coeff)\n",
    "\n",
    "#read variable properties\n",
    "variable_name = []\n",
    "for c in range(n_variables):\n",
    "    v = main.cell(column=c+2, row=2).value\n",
    "    if v is None:\n",
    "        variable_name.append('x'+str(c+1))\n",
    "    elif type(v) != str:\n",
    "        variable_name.append(str(v))\n",
    "    else:\n",
    "        variable_name.append(v)        \n",
    "        \n",
    "variable_type = []\n",
    "for c in range(n_variables):\n",
    "    v = main.cell(column=c+2, row=4).value\n",
    "    if not v:\n",
    "        t = 'C' \n",
    "    elif v == 'cont':\n",
    "        t = 'C'\n",
    "    elif v == 'int':\n",
    "        t = 'I'\n",
    "    elif v == 'bin':\n",
    "        t = 'B'\n",
    "    else:\n",
    "        raise NameError('Variable type cannot be recognized')\n",
    "    variable_type.append(t)\n",
    "    \n",
    "variable_lb = []\n",
    "for c in range(n_variables):\n",
    "    v = main.cell(column=c+2, row=5).value\n",
    "    if v is None:\n",
    "        t = 0\n",
    "    elif v == '\"+inf\"':\n",
    "        raise NameError('Variable lower bound cannot be +inf')\n",
    "    elif v == '\"-inf\"':\n",
    "        t = -GRB.INFINITY\n",
    "    elif type(v) in [float, int]:\n",
    "        t = v\n",
    "    else:\n",
    "        raise NameError('Variable lower bound cannot be recognized')\n",
    "    variable_lb.append(t)\n",
    "\n",
    "variable_ub = []\n",
    "for c in range(n_variables):\n",
    "    v = main.cell(column=c+2, row=6).value\n",
    "    if v is None:\n",
    "        t = GRB.INFINITY\n",
    "    elif v == '\"+inf\"':\n",
    "        t = GRB.INFINITY\n",
    "    elif v == '\"-inf\"':\n",
    "        raise NameError('Variable upper bound cannot be -inf')\n",
    "    elif type(v) in [float, int]:\n",
    "        t = v\n",
    "    else:\n",
    "        raise NameError('Variable upper bound cannot be recognized')\n",
    "    variable_ub.append(t)\n",
    "    \n",
    "# whether to run sensitivity analysis\n",
    "run_sa = main.cell(column=2, row=7).value"
   ]
  },
  {
   "cell_type": "code",
   "execution_count": 146,
   "id": "2e3b209d0cfbfa8a",
   "metadata": {
    "ExecuteTime": {
     "end_time": "2023-09-27T17:33:35.576996Z",
     "start_time": "2023-09-27T17:33:35.574330Z"
    }
   },
   "outputs": [],
   "source": [
    "# read constraints\n",
    "## find constraint column index\n",
    "for c in range(1, n_variables+100):\n",
    "    v = main.cell(column=c, row=8).value\n",
    "    if v == 'constraint type':\n",
    "        const_typ_cind = c\n",
    "        break\n",
    "\n",
    "if const_typ_cind-2 != n_variables:\n",
    "    raise NameError('Number of variables does not match the constraints')\n",
    "    \n",
    "## find last constraint row index\n",
    "for r in range(9, 100000):\n",
    "    v = main.cell(column=const_typ_cind, row=r).value\n",
    "    if v is None:\n",
    "        break\n",
    "    elif v not in [\"<=\", \">=\", \"=\"]:\n",
    "        print(v)\n",
    "        raise NameError(\"Wrong constraint type\")\n",
    "    else:\n",
    "        last_r_consraints=r\n",
    "\n",
    "## read constraints as dataframe\n",
    "for r in range(9, last_r_consraints+1):\n",
    "    v = main.cell(column=const_typ_cind+2, row=r).value\n",
    "    if v is None:\n",
    "        main.cell(column=const_typ_cind+2, row=r).value = \"c\"+str(r-8)\n",
    "    elif type(v) != str:\n",
    "        main.cell(column=const_typ_cind+2, row=r).value = str(v)\n",
    "    else:\n",
    "        1==1\n",
    "\n",
    "values = []\n",
    "cons_df = pd.DataFrame()\n",
    "for r in range(9, last_r_consraints+1):\n",
    "    r_values = []\n",
    "    for c in range(2, const_typ_cind+3):\n",
    "        r_values.append(main.cell(column=c, row=r).value)\n",
    "    values.append(r_values)\n",
    "    cons_df = pd.DataFrame(values)\n",
    "    cons_df.fillna(0, inplace=True)\n",
    "    cons_df.rename(columns={const_typ_cind-2:'Constraint Type', \n",
    "                            const_typ_cind-1:'RHS values',\n",
    "                            const_typ_cind:'Constraint Name'}, inplace=True)"
   ]
  },
  {
   "cell_type": "code",
   "execution_count": 147,
   "id": "ac729196da25ee9a",
   "metadata": {
    "ExecuteTime": {
     "end_time": "2023-09-27T17:33:35.580780Z",
     "start_time": "2023-09-27T17:33:35.578480Z"
    }
   },
   "outputs": [],
   "source": [
    "# setup model\n",
    "m = Model()"
   ]
  },
  {
   "cell_type": "code",
   "execution_count": 148,
   "id": "1dd82eefc9b70a9",
   "metadata": {
    "ExecuteTime": {
     "end_time": "2023-09-27T17:33:35.587480Z",
     "start_time": "2023-09-27T17:33:35.581419Z"
    }
   },
   "outputs": [],
   "source": [
    "# add variables\n",
    "x=m.addVars(n_variables)\n",
    "# set types, lb, ub of variables\n",
    "for i in range(n_variables):\n",
    "    x[i].setAttr('VarNAME', variable_name[i])\n",
    "    x[i].setAttr('vType', variable_type[i])\n",
    "    x[i].setAttr('lb', variable_lb[i])\n",
    "    x[i].setAttr('ub', variable_ub[i])"
   ]
  },
  {
   "cell_type": "code",
   "execution_count": 149,
   "id": "3e5b9cd8c009201a",
   "metadata": {
    "ExecuteTime": {
     "end_time": "2023-09-27T17:33:35.587746Z",
     "start_time": "2023-09-27T17:33:35.584219Z"
    }
   },
   "outputs": [],
   "source": [
    "# set objective\n",
    "objective = quicksum(obj_coeff[i] * x[i] for i in range(n_variables))\n",
    "m.setObjective(objective, obj)"
   ]
  },
  {
   "cell_type": "code",
   "execution_count": 150,
   "id": "f12dfd66c1a7821",
   "metadata": {
    "ExecuteTime": {
     "end_time": "2023-09-27T17:33:35.592480Z",
     "start_time": "2023-09-27T17:33:35.589823Z"
    }
   },
   "outputs": [],
   "source": [
    "# add constraints\n",
    "if cons_df.shape[0]:\n",
    "    ## add le constraints\n",
    "    le_const = cons_df[cons_df['Constraint Type'] == '<=']\n",
    "    le_const.reset_index(inplace=True, drop=True)\n",
    "    for i in range(le_const.shape[0]):\n",
    "        m.addConstr(quicksum(le_const.iloc[i,j]* x[j] for j in range(n_variables)) <= le_const['RHS values'][i], name=le_const['Constraint Name'][i])\n",
    "    ## add ge constraints\n",
    "    ge_const = cons_df[cons_df['Constraint Type'] == '>=']\n",
    "    ge_const.reset_index(inplace=True, drop=True)\n",
    "    for i in range(ge_const.shape[0]):\n",
    "        m.addConstr(quicksum(ge_const.iloc[i,j]* x[j] for j in range(n_variables)) >= ge_const['RHS values'][i], name=ge_const['Constraint Name'][i])\n",
    "    ## add eq constraints\n",
    "    eq_const = cons_df[cons_df['Constraint Type'] == '=']\n",
    "    eq_const.reset_index(inplace=True, drop=True)\n",
    "    for i in range(eq_const.shape[0]):\n",
    "        m.addConstr(quicksum(eq_const.iloc[i,j]* x[j] for j in range(n_variables)) == eq_const['RHS values'][i], name=eq_const['Constraint Name'][i])"
   ]
  },
  {
   "cell_type": "code",
   "execution_count": 151,
   "id": "4a23768234edc1c9",
   "metadata": {
    "ExecuteTime": {
     "end_time": "2023-09-27T17:33:35.596266Z",
     "start_time": "2023-09-27T17:33:35.594028Z"
    }
   },
   "outputs": [],
   "source": [
    "# sensitivity analysis\n",
    "def sensitivity_analysis():\n",
    "    display(Markdown(\"**Sensitivity Analysis:**\"))\n",
    "    for v in m.getVars():\n",
    "        print(\"For Variable \" + v.VarName+ \":\")\n",
    "        print(\"Minimum value coefficient can take before the optimal decision changes \"  + \"is \" + str(v.SAObjLow))\n",
    "        print(\"Maximum value coefficient can take before the optimal decision changes \"  + \"is \" + str(v.SAObjUp))\n",
    "    \n",
    "    for c in m.getConstrs():\n",
    "        print(\"For constraint \" + c.ConstrName+ \":\")\n",
    "        print(\"Shadow Price is \" + str(c.pi))\n",
    "        print(\"Minimum value RHS can take before the shadow price changes \"  + \"is \" + str(c.SARHSLow))\n",
    "        print(\"Maximum value RHS can take before the shadow price changes \"  + \"is \" + str(c.SARHSUp))\n",
    "\n",
    "def main(m, run_sa):\n",
    "    display(Markdown(\"**Solve Gurobi Model:**\"))\n",
    "    m.optimize()\n",
    "    if run_sa==1:\n",
    "        if \"I\" in variable_type or \"B\" in variable_type:\n",
    "            raise NameError('There is at least one variable with type of integer/binary.')\n",
    "        else:\n",
    "            sensitivity_analysis()\n",
    "    else:\n",
    "        1==1"
   ]
  },
  {
   "cell_type": "code",
   "execution_count": 152,
   "id": "ac9bca1064f98268",
   "metadata": {
    "ExecuteTime": {
     "end_time": "2023-09-27T17:33:35.606537Z",
     "start_time": "2023-09-27T17:33:35.596459Z"
    }
   },
   "outputs": [
    {
     "data": {
      "text/markdown": [
       "**Solve Gurobi Model:**"
      ],
      "text/plain": [
       "<IPython.core.display.Markdown object>"
      ]
     },
     "metadata": {},
     "output_type": "display_data"
    },
    {
     "name": "stdout",
     "output_type": "stream",
     "text": [
      "Gurobi Optimizer version 10.0.2 build v10.0.2rc0 (win64)\n",
      "\n",
      "CPU model: AMD Ryzen 7 4800H with Radeon Graphics, instruction set [SSE2|AVX|AVX2]\n",
      "Thread count: 8 physical cores, 16 logical processors, using up to 16 threads\n",
      "\n",
      "Optimize a model with 5 rows, 13 columns and 41 nonzeros\n",
      "Model fingerprint: 0x414f7e44\n",
      "Coefficient statistics:\n",
      "  Matrix range     [1e+00, 2e+04]\n",
      "  Objective range  [2e+01, 4e+01]\n",
      "  Bounds range     [0e+00, 0e+00]\n",
      "  RHS range        [2e-01, 5e+05]\n",
      "Presolve removed 3 rows and 1 columns\n",
      "Presolve time: 0.02s\n",
      "Presolved: 2 rows, 12 columns, 24 nonzeros\n",
      "\n",
      "Iteration    Objective       Primal Inf.    Dual Inf.      Time\n",
      "       0    2.4898596e+01   0.000000e+00   0.000000e+00      0s\n",
      "       0    2.4898596e+01   0.000000e+00   0.000000e+00      0s\n",
      "\n",
      "Solved in 0 iterations and 0.03 seconds (0.00 work units)\n",
      "Optimal objective  2.489859590e+01\n"
     ]
    },
    {
     "data": {
      "text/markdown": [
       "**Sensitivity Analysis:**"
      ],
      "text/plain": [
       "<IPython.core.display.Markdown object>"
      ]
     },
     "metadata": {},
     "output_type": "display_data"
    },
    {
     "name": "stdout",
     "output_type": "stream",
     "text": [
      "For Variable $RTRE:\n",
      "Minimum value coefficient can take before the optimal decision changes is 16.149572\n",
      "Maximum value coefficient can take before the optimal decision changes is inf\n",
      "For Variable $TOOC:\n",
      "Minimum value coefficient can take before the optimal decision changes is 16.149572\n",
      "Maximum value coefficient can take before the optimal decision changes is inf\n",
      "For Variable $TTCD:\n",
      "Minimum value coefficient can take before the optimal decision changes is 16.149572\n",
      "Maximum value coefficient can take before the optimal decision changes is inf\n",
      "For Variable $TTCS:\n",
      "Minimum value coefficient can take before the optimal decision changes is -inf\n",
      "Maximum value coefficient can take before the optimal decision changes is 18.22321628\n",
      "For Variable $TTEN:\n",
      "Minimum value coefficient can take before the optimal decision changes is 16.149572\n",
      "Maximum value coefficient can take before the optimal decision changes is inf\n",
      "For Variable $TTFS:\n",
      "Minimum value coefficient can take before the optimal decision changes is 16.149572\n",
      "Maximum value coefficient can take before the optimal decision changes is inf\n",
      "For Variable $TTHC:\n",
      "Minimum value coefficient can take before the optimal decision changes is 16.149572\n",
      "Maximum value coefficient can take before the optimal decision changes is inf\n",
      "For Variable $TTIN:\n",
      "Minimum value coefficient can take before the optimal decision changes is 16.149572\n",
      "Maximum value coefficient can take before the optimal decision changes is inf\n",
      "For Variable $TTMT:\n",
      "Minimum value coefficient can take before the optimal decision changes is 16.149572\n",
      "Maximum value coefficient can take before the optimal decision changes is inf\n",
      "For Variable $TTRE:\n",
      "Minimum value coefficient can take before the optimal decision changes is 16.149572\n",
      "Maximum value coefficient can take before the optimal decision changes is inf\n",
      "For Variable $TTTK:\n",
      "Minimum value coefficient can take before the optimal decision changes is 16.149572\n",
      "Maximum value coefficient can take before the optimal decision changes is inf\n",
      "For Variable $TTTS:\n",
      "Minimum value coefficient can take before the optimal decision changes is 16.149572\n",
      "Maximum value coefficient can take before the optimal decision changes is inf\n",
      "For Variable $TTUT:\n",
      "Minimum value coefficient can take before the optimal decision changes is 16.149572\n",
      "Maximum value coefficient can take before the optimal decision changes is inf\n",
      "For constraint Budget:\n",
      "Shadow Price is 0.0\n",
      "Minimum value RHS can take before the shadow price changes is 502.2600000000093\n",
      "Maximum value RHS can take before the shadow price changes is inf\n",
      "For constraint Return:\n",
      "Shadow Price is 0.0\n",
      "Minimum value RHS can take before the shadow price changes is -inf\n",
      "Maximum value RHS can take before the shadow price changes is 9.4986538222\n",
      "For constraint HC Investment:\n",
      "Shadow Price is 21.075792300000003\n",
      "Minimum value RHS can take before the shadow price changes is -0.0\n",
      "Maximum value RHS can take before the shadow price changes is 0.23611566886215854\n",
      "For constraint IT Investment:\n",
      "Shadow Price is 18.135461749999997\n",
      "Minimum value RHS can take before the shadow price changes is -0.0\n",
      "Maximum value RHS can take before the shadow price changes is 0.8\n",
      "For constraint Percentage:\n",
      "Shadow Price is 16.149572\n",
      "Minimum value RHS can take before the shadow price changes is 0.9585817184902591\n",
      "Maximum value RHS can take before the shadow price changes is 606.1290705563093\n"
     ]
    }
   ],
   "source": [
    "## run the model\n",
    "main(m, run_sa)"
   ]
  },
  {
   "cell_type": "code",
   "execution_count": 153,
   "id": "a0075e0a6f96877d",
   "metadata": {
    "ExecuteTime": {
     "end_time": "2023-09-27T17:33:35.608146Z",
     "start_time": "2023-09-27T17:33:35.607563Z"
    }
   },
   "outputs": [
    {
     "data": {
      "text/plain": [
       "24.8985958975"
      ]
     },
     "execution_count": 153,
     "metadata": {},
     "output_type": "execute_result"
    }
   ],
   "source": [
    "# print optimal objective value\n",
    "m.objVal"
   ]
  },
  {
   "cell_type": "code",
   "execution_count": 154,
   "id": "16543546b34bf358",
   "metadata": {
    "ExecuteTime": {
     "end_time": "2023-09-27T17:33:35.650454Z",
     "start_time": "2023-09-27T17:33:35.609220Z"
    }
   },
   "outputs": [
    {
     "name": "stdout",
     "output_type": "stream",
     "text": [
      "\n",
      "    Variable            X \n",
      "-------------------------\n",
      "       $TTCS         0.55 \n",
      "       $TTHC          0.2 \n",
      "       $TTTK         0.25 \n"
     ]
    }
   ],
   "source": [
    "# print optimal decisions (if not listed, that means their optimal value = 0)\n",
    "m.printAttr('X')"
   ]
  }
 ],
 "metadata": {
  "kernelspec": {
   "display_name": "Python 3",
   "language": "python",
   "name": "python3"
  },
  "language_info": {
   "codemirror_mode": {
    "name": "ipython",
    "version": 3
   },
   "file_extension": ".py",
   "mimetype": "text/x-python",
   "name": "python",
   "nbconvert_exporter": "python",
   "pygments_lexer": "ipython3",
   "version": "3.11.2"
  }
 },
 "nbformat": 4,
 "nbformat_minor": 5
}
