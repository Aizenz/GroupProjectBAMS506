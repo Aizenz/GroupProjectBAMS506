{
 "cells": [
  {
   "cell_type": "code",
   "execution_count": 13,
   "id": "53b962c2fe18a08b",
   "metadata": {
    "ExecuteTime": {
     "end_time": "2023-09-27T17:33:35.537315Z",
     "start_time": "2023-09-27T17:33:35.529256Z"
    }
   },
   "outputs": [],
   "source": [
    "import pandas as pd\n",
    "from gurobipy import *\n",
    "import openpyxl\n",
    "from IPython.display import Markdown, display"
   ]
  },
  {
   "cell_type": "code",
   "execution_count": 14,
   "id": "8844af3cea1481c1",
   "metadata": {
    "ExecuteTime": {
     "end_time": "2023-09-27T17:33:35.562488Z",
     "start_time": "2023-09-27T17:33:35.533218Z"
    }
   },
   "outputs": [],
   "source": [
    "# reading the inputs from Excel workbook\n",
    "filename = \"Model_Inputs_project.xlsx\"\n",
    "wb = openpyxl.load_workbook(filename,data_only=True)\n",
    "main = wb['Main']"
   ]
  },
  {
   "cell_type": "code",
   "execution_count": 15,
   "id": "53ca258bc5b4efa0",
   "metadata": {
    "ExecuteTime": {
     "end_time": "2023-09-27T17:33:35.569274Z",
     "start_time": "2023-09-27T17:33:35.567413Z"
    }
   },
   "outputs": [],
   "source": [
    "# read objective\n",
    "obj = main.cell(column=2, row=1).value\n",
    "if obj =='max':\n",
    "    obj = -1\n",
    "elif obj =='min':\n",
    "    obj = 1\n",
    "else:\n",
    "    raise NameError('Objective cannot be recognized')\n",
    "# read obj coefficient\n",
    "obj_coeff=[]\n",
    "for c in range(2,10000):\n",
    "    v = main.cell(column=c, row=3).value\n",
    "    if v is None:\n",
    "        break\n",
    "    else:\n",
    "        obj_coeff.append(v)\n",
    "n_variables = len(obj_coeff)\n",
    "\n",
    "#read variable properties\n",
    "variable_name = []\n",
    "for c in range(n_variables):\n",
    "    v = main.cell(column=c+2, row=2).value\n",
    "    if v is None:\n",
    "        variable_name.append('x'+str(c+1))\n",
    "    elif type(v) != str:\n",
    "        variable_name.append(str(v))\n",
    "    else:\n",
    "        variable_name.append(v)        \n",
    "        \n",
    "variable_type = []\n",
    "for c in range(n_variables):\n",
    "    v = main.cell(column=c+2, row=4).value\n",
    "    if not v:\n",
    "        t = 'C' \n",
    "    elif v == 'cont':\n",
    "        t = 'C'\n",
    "    elif v == 'int':\n",
    "        t = 'I'\n",
    "    elif v == 'bin':\n",
    "        t = 'B'\n",
    "    else:\n",
    "        raise NameError('Variable type cannot be recognized')\n",
    "    variable_type.append(t)\n",
    "    \n",
    "variable_lb = []\n",
    "for c in range(n_variables):\n",
    "    v = main.cell(column=c+2, row=5).value\n",
    "    if v is None:\n",
    "        t = 0\n",
    "    elif v == '\"+inf\"':\n",
    "        raise NameError('Variable lower bound cannot be +inf')\n",
    "    elif v == '\"-inf\"':\n",
    "        t = -GRB.INFINITY\n",
    "    elif type(v) in [float, int]:\n",
    "        t = v\n",
    "    else:\n",
    "        raise NameError('Variable lower bound cannot be recognized')\n",
    "    variable_lb.append(t)\n",
    "\n",
    "variable_ub = []\n",
    "for c in range(n_variables):\n",
    "    v = main.cell(column=c+2, row=6).value\n",
    "    if v is None:\n",
    "        t = GRB.INFINITY\n",
    "    elif v == '\"+inf\"':\n",
    "        t = GRB.INFINITY\n",
    "    elif v == '\"-inf\"':\n",
    "        raise NameError('Variable upper bound cannot be -inf')\n",
    "    elif type(v) in [float, int]:\n",
    "        t = v\n",
    "    else:\n",
    "        raise NameError('Variable upper bound cannot be recognized')\n",
    "    variable_ub.append(t)\n",
    "    \n",
    "# whether to run sensitivity analysis\n",
    "run_sa = main.cell(column=2, row=7).value"
   ]
  },
  {
   "cell_type": "code",
   "execution_count": 16,
   "id": "2e3b209d0cfbfa8a",
   "metadata": {
    "ExecuteTime": {
     "end_time": "2023-09-27T17:33:35.576996Z",
     "start_time": "2023-09-27T17:33:35.574330Z"
    }
   },
   "outputs": [],
   "source": [
    "# read constraints\n",
    "## find constraint column index\n",
    "for c in range(1, n_variables+100):\n",
    "    v = main.cell(column=c, row=8).value\n",
    "    if v == 'constraint type':\n",
    "        const_typ_cind = c\n",
    "        break\n",
    "\n",
    "if const_typ_cind-2 != n_variables:\n",
    "    raise NameError('Number of variables does not match the constraints')\n",
    "    \n",
    "## find last constraint row index\n",
    "for r in range(9, 100000):\n",
    "    v = main.cell(column=const_typ_cind, row=r).value\n",
    "    if v is None:\n",
    "        break\n",
    "    elif v not in [\"<=\", \">=\", \"=\"]:\n",
    "        print(v)\n",
    "        raise NameError(\"Wrong constraint type\")\n",
    "    else:\n",
    "        last_r_consraints=r\n",
    "\n",
    "## read constraints as dataframe\n",
    "for r in range(9, last_r_consraints+1):\n",
    "    v = main.cell(column=const_typ_cind+2, row=r).value\n",
    "    if v is None:\n",
    "        main.cell(column=const_typ_cind+2, row=r).value = \"c\"+str(r-8)\n",
    "    elif type(v) != str:\n",
    "        main.cell(column=const_typ_cind+2, row=r).value = str(v)\n",
    "    else:\n",
    "        1==1\n",
    "\n",
    "values = []\n",
    "cons_df = pd.DataFrame()\n",
    "for r in range(9, last_r_consraints+1):\n",
    "    r_values = []\n",
    "    for c in range(2, const_typ_cind+3):\n",
    "        r_values.append(main.cell(column=c, row=r).value)\n",
    "    values.append(r_values)\n",
    "    cons_df = pd.DataFrame(values)\n",
    "    cons_df.fillna(0, inplace=True)\n",
    "    cons_df.rename(columns={const_typ_cind-2:'Constraint Type', \n",
    "                            const_typ_cind-1:'RHS values',\n",
    "                            const_typ_cind:'Constraint Name'}, inplace=True)"
   ]
  },
  {
   "cell_type": "code",
   "execution_count": 17,
   "id": "ac729196da25ee9a",
   "metadata": {
    "ExecuteTime": {
     "end_time": "2023-09-27T17:33:35.580780Z",
     "start_time": "2023-09-27T17:33:35.578480Z"
    }
   },
   "outputs": [],
   "source": [
    "# setup model\n",
    "m = Model()"
   ]
  },
  {
   "cell_type": "code",
   "execution_count": 18,
   "id": "1dd82eefc9b70a9",
   "metadata": {
    "ExecuteTime": {
     "end_time": "2023-09-27T17:33:35.587480Z",
     "start_time": "2023-09-27T17:33:35.581419Z"
    }
   },
   "outputs": [],
   "source": [
    "# add variables\n",
    "x=m.addVars(n_variables)\n",
    "# set types, lb, ub of variables\n",
    "for i in range(n_variables):\n",
    "    x[i].setAttr('VarNAME', variable_name[i])\n",
    "    x[i].setAttr('vType', variable_type[i])\n",
    "    x[i].setAttr('lb', variable_lb[i])\n",
    "    x[i].setAttr('ub', variable_ub[i])"
   ]
  },
  {
   "cell_type": "code",
   "execution_count": 19,
   "id": "3e5b9cd8c009201a",
   "metadata": {
    "ExecuteTime": {
     "end_time": "2023-09-27T17:33:35.587746Z",
     "start_time": "2023-09-27T17:33:35.584219Z"
    }
   },
   "outputs": [],
   "source": [
    "# set objective\n",
    "objective = quicksum(obj_coeff[i] * x[i] for i in range(n_variables))\n",
    "m.setObjective(objective, obj)"
   ]
  },
  {
   "cell_type": "code",
   "execution_count": 20,
   "id": "f12dfd66c1a7821",
   "metadata": {
    "ExecuteTime": {
     "end_time": "2023-09-27T17:33:35.592480Z",
     "start_time": "2023-09-27T17:33:35.589823Z"
    }
   },
   "outputs": [],
   "source": [
    "# add constraints\n",
    "if cons_df.shape[0]:\n",
    "    ## add le constraints\n",
    "    le_const = cons_df[cons_df['Constraint Type'] == '<=']\n",
    "    le_const.reset_index(inplace=True, drop=True)\n",
    "    for i in range(le_const.shape[0]):\n",
    "        m.addConstr(quicksum(le_const.iloc[i,j]* x[j] for j in range(n_variables)) <= le_const['RHS values'][i], name=le_const['Constraint Name'][i])\n",
    "    ## add ge constraints\n",
    "    ge_const = cons_df[cons_df['Constraint Type'] == '>=']\n",
    "    ge_const.reset_index(inplace=True, drop=True)\n",
    "    for i in range(ge_const.shape[0]):\n",
    "        m.addConstr(quicksum(ge_const.iloc[i,j]* x[j] for j in range(n_variables)) >= ge_const['RHS values'][i], name=ge_const['Constraint Name'][i])\n",
    "    ## add eq constraints\n",
    "    eq_const = cons_df[cons_df['Constraint Type'] == '=']\n",
    "    eq_const.reset_index(inplace=True, drop=True)\n",
    "    for i in range(eq_const.shape[0]):\n",
    "        m.addConstr(quicksum(eq_const.iloc[i,j]* x[j] for j in range(n_variables)) == eq_const['RHS values'][i], name=eq_const['Constraint Name'][i])"
   ]
  },
  {
   "cell_type": "code",
   "execution_count": 21,
   "id": "4a23768234edc1c9",
   "metadata": {
    "ExecuteTime": {
     "end_time": "2023-09-27T17:33:35.596266Z",
     "start_time": "2023-09-27T17:33:35.594028Z"
    }
   },
   "outputs": [],
   "source": [
    "# sensitivity analysis\n",
    "def sensitivity_analysis():\n",
    "    display(Markdown(\"**Sensitivity Analysis:**\"))\n",
    "    for v in m.getVars():\n",
    "        print(\"For Variable \" + v.VarName+ \":\")\n",
    "        print(\"Minimum value coefficient can take before the optimal decision changes \"  + \"is \" + str(v.SAObjLow))\n",
    "        print(\"Maximum value coefficient can take before the optimal decision changes \"  + \"is \" + str(v.SAObjUp))\n",
    "    \n",
    "    for c in m.getConstrs():\n",
    "        print(\"For constraint \" + c.ConstrName+ \":\")\n",
    "        print(\"Shadow Price is \" + str(c.pi))\n",
    "        print(\"Minimum value RHS can take before the shadow price changes \"  + \"is \" + str(c.SARHSLow))\n",
    "        print(\"Maximum value RHS can take before the shadow price changes \"  + \"is \" + str(c.SARHSUp))\n",
    "\n",
    "def main(m, run_sa):\n",
    "    display(Markdown(\"**Solve Gurobi Model:**\"))\n",
    "    m.optimize()\n",
    "    if run_sa==1:\n",
    "        if \"I\" in variable_type or \"B\" in variable_type:\n",
    "            raise NameError('There is at least one variable with type of integer/binary.')\n",
    "        else:\n",
    "            sensitivity_analysis()\n",
    "    else:\n",
    "        1==1"
   ]
  },
  {
   "cell_type": "code",
   "execution_count": 22,
   "id": "ac9bca1064f98268",
   "metadata": {
    "ExecuteTime": {
     "end_time": "2023-09-27T17:33:35.606537Z",
     "start_time": "2023-09-27T17:33:35.596459Z"
    }
   },
   "outputs": [
    {
     "data": {
      "text/markdown": [
       "**Solve Gurobi Model:**"
      ],
      "text/plain": [
       "<IPython.core.display.Markdown object>"
      ]
     },
     "metadata": {},
     "output_type": "display_data"
    },
    {
     "name": "stdout",
     "output_type": "stream",
     "text": [
      "Gurobi Optimizer version 10.0.2 build v10.0.2rc0 (win64)\n",
      "\n",
      "CPU model: AMD Ryzen 7 4800H with Radeon Graphics, instruction set [SSE2|AVX|AVX2]\n",
      "Thread count: 8 physical cores, 16 logical processors, using up to 16 threads\n",
      "\n",
      "Optimize a model with 1 rows, 14 columns and 14 nonzeros\n",
      "Model fingerprint: 0xdbc02081\n",
      "Coefficient statistics:\n",
      "  Matrix range     [2e+00, 1e+01]\n",
      "  Objective range  [2e+01, 4e+01]\n",
      "  Bounds range     [0e+00, 0e+00]\n",
      "  RHS range        [6e+00, 6e+00]\n",
      "Presolve removed 1 rows and 14 columns\n",
      "Presolve time: 0.00s\n",
      "Presolve: All rows and columns removed\n",
      "Iteration    Objective       Primal Inf.    Dual Inf.      Time\n",
      "       0    8.0483192e+00   0.000000e+00   0.000000e+00      0s\n",
      "\n",
      "Solved in 0 iterations and 0.01 seconds (0.00 work units)\n",
      "Optimal objective  8.048319169e+00\n"
     ]
    }
   ],
   "source": [
    "## run the model\n",
    "main(m, run_sa)"
   ]
  },
  {
   "cell_type": "code",
   "execution_count": 23,
   "id": "a0075e0a6f96877d",
   "metadata": {
    "ExecuteTime": {
     "end_time": "2023-09-27T17:33:35.608146Z",
     "start_time": "2023-09-27T17:33:35.607563Z"
    }
   },
   "outputs": [
    {
     "data": {
      "text/plain": [
       "8.04831916948049"
      ]
     },
     "execution_count": 23,
     "metadata": {},
     "output_type": "execute_result"
    }
   ],
   "source": [
    "# print optimal objective value\n",
    "m.objVal"
   ]
  },
  {
   "cell_type": "code",
   "execution_count": 24,
   "id": "16543546b34bf358",
   "metadata": {
    "ExecuteTime": {
     "end_time": "2023-09-27T17:33:35.650454Z",
     "start_time": "2023-09-27T17:33:35.609220Z"
    }
   },
   "outputs": [
    {
     "name": "stdout",
     "output_type": "stream",
     "text": [
      "\n",
      "    Variable            X \n",
      "-------------------------\n",
      "  $TTCS_Risk     0.498361 \n"
     ]
    }
   ],
   "source": [
    "# print optimal decisions (if not listed, that means their optimal value = 0)\n",
    "m.printAttr('X')"
   ]
  }
 ],
 "metadata": {
  "kernelspec": {
   "display_name": "Python 3",
   "language": "python",
   "name": "python3"
  },
  "language_info": {
   "codemirror_mode": {
    "name": "ipython",
    "version": 3
   },
   "file_extension": ".py",
   "mimetype": "text/x-python",
   "name": "python",
   "nbconvert_exporter": "python",
   "pygments_lexer": "ipython3",
   "version": "3.11.2"
  }
 },
 "nbformat": 4,
 "nbformat_minor": 5
}
